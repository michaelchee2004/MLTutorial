{
 "cells": [
  {
   "cell_type": "markdown",
   "metadata": {},
   "source": [
    "## Fetch data"
   ]
  },
  {
   "cell_type": "code",
   "execution_count": 1,
   "metadata": {},
   "outputs": [
    {
     "name": "stdout",
     "output_type": "stream",
     "text": [
      "Data shape:\n",
      "(70000, 784)\n",
      "Label shape:\n",
      "(70000,)\n"
     ]
    }
   ],
   "source": [
    "from scipy.io import loadmat\n",
    "import os\n",
    "import numpy as np\n",
    "\n",
    "parentDir = '.'\n",
    "sect = '02 Exercises'\n",
    "fileName = 'mnist-original.mat'\n",
    "address = os.path.join(parentDir, sect, fileName)\n",
    "\n",
    "# Do this later\n",
    "# def load_MLData(address = dataFileAddress):\n",
    "#     \"\"\"\n",
    "#     Load ML data from url according to the website here: \n",
    "#     http://www.frogjumpjump.com/2018/07/scikit-learn-fetching-mnist-original.html?m=1\n",
    "#     If file does not exist at the specified local path, download the file from online. Otherwise load the file.\n",
    "#     The file is a .mat file.\n",
    "    \n",
    "#     Args:\n",
    "#         address (str): local path of the data file\n",
    "        \n",
    "#     return:\n",
    "#         MLData (dict): loaded .mat file\n",
    "    \n",
    "#     \"\"\"\n",
    "    \n",
    "#     # if no dat exist download data\n",
    "    \n",
    "\n",
    "mnistData = loadmat(address)\n",
    "X = mnistData['data']\n",
    "X = np.transpose(X)\n",
    "y = mnistData['label']\n",
    "y = y.ravel()\n",
    "\n",
    "print('Data shape:')\n",
    "print(X.shape)\n",
    "print('Label shape:')\n",
    "print(y.shape)\n"
   ]
  },
  {
   "cell_type": "markdown",
   "metadata": {},
   "source": [
    "## Manipulate data"
   ]
  },
  {
   "cell_type": "code",
   "execution_count": 2,
   "metadata": {},
   "outputs": [],
   "source": [
    "TrainSize = 10000\n",
    "X_train, X_test, y_train, y_test = X[:TrainSize], X[TrainSize:], y[:TrainSize], y[TrainSize:]\n"
   ]
  },
  {
   "cell_type": "markdown",
   "metadata": {},
   "source": [
    "## Train data"
   ]
  },
  {
   "cell_type": "code",
   "execution_count": 3,
   "metadata": {},
   "outputs": [
    {
     "data": {
      "text/plain": [
       "KNeighborsClassifier(algorithm='auto', leaf_size=30, metric='minkowski',\n",
       "           metric_params=None, n_jobs=1, n_neighbors=5, p=2,\n",
       "           weights='uniform')"
      ]
     },
     "execution_count": 3,
     "metadata": {},
     "output_type": "execute_result"
    }
   ],
   "source": [
    "from sklearn.neighbors import KNeighborsClassifier\n",
    "\n",
    "KNNModel = KNeighborsClassifier() # n_neighbors=5\n",
    "KNNModel.fit(X_train, y_train)\n"
   ]
  },
  {
   "cell_type": "markdown",
   "metadata": {},
   "source": [
    "## Performance"
   ]
  },
  {
   "cell_type": "code",
   "execution_count": 4,
   "metadata": {},
   "outputs": [],
   "source": [
    "from sklearn.metrics import confusion_matrix\n",
    "\n",
    "pred = KNNModel.predict(X_train)\n",
    "correctAns = (pred == y_train)\n"
   ]
  }
 ],
 "metadata": {
  "kernelspec": {
   "display_name": "Python 3",
   "language": "python",
   "name": "python3"
  },
  "language_info": {
   "codemirror_mode": {
    "name": "ipython",
    "version": 3
   },
   "file_extension": ".py",
   "mimetype": "text/x-python",
   "name": "python",
   "nbconvert_exporter": "python",
   "pygments_lexer": "ipython3",
   "version": "3.7.0"
  }
 },
 "nbformat": 4,
 "nbformat_minor": 2
}
